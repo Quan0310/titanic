{
 "cells": [
  {
   "cell_type": "markdown",
   "id": "b6adb1ab-3804-4501-96e6-019001266131",
   "metadata": {
    "panel-layout": {
     "height": 51.1179,
     "visible": true,
     "width": 100
    }
   },
   "source": [
    "#Titanic - Machine Learning from Disaster"
   ]
  },
  {
   "cell_type": "code",
   "execution_count": null,
   "id": "13765690-5f90-494c-8f46-79af0e95c21a",
   "metadata": {},
   "outputs": [],
   "source": [
    "train_df = pd.read_csv(\"./data/train.csv\", index_col=\"PassengerId\")\n",
    "test_df = pd.read_csv(\"./data/test.csv\", index_col=\"PassengerId\")"
   ]
  },
  {
   "cell_type": "code",
   "execution_count": null,
   "id": "8571343d-4fb4-4646-b672-1207582491ed",
   "metadata": {
    "panel-layout": {
     "height": 61.3915,
     "visible": true,
     "width": 100
    }
   },
   "outputs": [],
   "source": [
    "train_df.columns"
   ]
  },
  {
   "cell_type": "code",
   "execution_count": null,
   "id": "cad608e4-2a03-4862-9189-d1aac7621f91",
   "metadata": {
    "panel-layout": {
     "height": 61.3915,
     "visible": true,
     "width": 100
    }
   },
   "outputs": [],
   "source": [
    "test_df.columns"
   ]
  },
  {
   "cell_type": "code",
   "execution_count": null,
   "id": "57df601f-a10e-42d9-982f-d1e2ac5ed5c8",
   "metadata": {
    "panel-layout": {
     "height": 196.321,
     "visible": true,
     "width": 100
    },
    "scrolled": true
   },
   "outputs": [],
   "source": [
    "train_df.head()"
   ]
  },
  {
   "cell_type": "code",
   "execution_count": null,
   "id": "48363163-0482-442c-89be-6e6f5151f519",
   "metadata": {
    "panel-layout": {
     "height": 196.321,
     "visible": true,
     "width": 100
    }
   },
   "outputs": [],
   "source": [
    "test_df.head()"
   ]
  },
  {
   "cell_type": "code",
   "execution_count": null,
   "id": "6d04a957-0136-4f14-ab91-51bad23744ed",
   "metadata": {
    "panel-layout": {
     "height": -0.009433746337890625,
     "visible": true,
     "width": 100
    }
   },
   "outputs": [],
   "source": [
    "train_df.info()"
   ]
  },
  {
   "cell_type": "code",
   "execution_count": null,
   "id": "56640293-c03b-4c3a-999b-83b466ad57d9",
   "metadata": {
    "panel-layout": {
     "height": -0.009433746337890625,
     "visible": true,
     "width": 100
    }
   },
   "outputs": [],
   "source": [
    "test_df.info()"
   ]
  },
  {
   "cell_type": "code",
   "execution_count": null,
   "id": "5d6f98c8-0a9a-4428-b5fc-9911862ef317",
   "metadata": {
    "panel-layout": {
     "height": -0.009433746337890625,
     "visible": true,
     "width": 100
    }
   },
   "outputs": [],
   "source": [
    "train_df_features = [\"Embarked\",\"Pclass\", \"Sex\", \"SibSp\", \"Parch\", \"Embarked\"]\n",
    "test_df_features = [\"Pclass\", \"Sex\", \"SibSp\", \"Parch\", \"Embarked\"]\n",
    "def convert_cat(df, features):\n",
    "    for feature in features:\n",
    "        df[feature] = df[feature].astype(\"category\")\n",
    "convert_cat(train_df, train_df_features)\n",
    "convert_cat(test_df, test_df_features)"
   ]
  },
  {
   "cell_type": "code",
   "execution_count": null,
   "id": "fd2c697a-1138-4a91-bbfe-456cb523e10d",
   "metadata": {
    "panel-layout": {
     "height": -0.009433746337890625,
     "visible": true,
     "width": 100
    }
   },
   "outputs": [],
   "source": [
    "train_df.info()"
   ]
  },
  {
   "cell_type": "code",
   "execution_count": null,
   "id": "f3267ac2-388e-478e-bb38-21687831b7c9",
   "metadata": {
    "panel-layout": {
     "height": -0.009433746337890625,
     "visible": true,
     "width": 100
    },
    "scrolled": true
   },
   "outputs": [],
   "source": [
    "test_df.info()"
   ]
  },
  {
   "cell_type": "code",
   "execution_count": null,
   "id": "210b2080-1889-442d-bf84-21df7c974526",
   "metadata": {
    "panel-layout": {
     "height": 249.302,
     "visible": true,
     "width": 100
    }
   },
   "outputs": [],
   "source": [
    "train_df.describe()"
   ]
  },
  {
   "cell_type": "code",
   "execution_count": null,
   "id": "2eb6b950-d962-4212-9f7b-4963912cb818",
   "metadata": {
    "panel-layout": {
     "height": 143.34,
     "visible": true,
     "width": 100
    }
   },
   "outputs": [],
   "source": [
    "train_df.describe(include=[\"category\"])"
   ]
  },
  {
   "cell_type": "markdown",
   "id": "f5e5676f-6f37-4270-8a74-b28f1ab52d7e",
   "metadata": {
    "panel-layout": {
     "height": 114.528,
     "visible": true,
     "width": 100
    }
   },
   "source": [
    "3. Exploratory Data Analysis (EDA)\n",
    "3.1. Correlating categorical features\n",
    "   + categorical: \tSurvived,\tPclass (Ordinal),\tSex,\tSibSp,\tParch,\tEmbarked\n",
    "  \n",
    "\n",
    "Target Variable: Survived"
   ]
  },
  {
   "cell_type": "code",
   "execution_count": null,
   "id": "fb0053e3-b01f-4bad-b1fa-72d3f7bb5da0",
   "metadata": {
    "panel-layout": {
     "height": 116.849,
     "visible": true,
     "width": 100
    }
   },
   "outputs": [],
   "source": [
    "train_df[\"Survived\"].value_counts().to_frame()"
   ]
  },
  {
   "cell_type": "code",
   "execution_count": null,
   "id": "6165eebe-7d07-48c3-ab30-24758f228a59",
   "metadata": {
    "panel-layout": {
     "height": 116.849,
     "visible": true,
     "width": 100
    }
   },
   "outputs": [],
   "source": [
    "train_df[\"Survived\"].value_counts(normalize=True).to_frame()"
   ]
  },
  {
   "cell_type": "code",
   "execution_count": null,
   "id": "d829caf1-d4d8-4c37-a90a-6a33a7c61fb7",
   "metadata": {},
   "outputs": [],
   "source": [
    "sns.countplot(data=train_df, x='Sex', hue='Survived', palette='Blues');"
   ]
  },
  {
   "cell_type": "code",
   "execution_count": null,
   "id": "8254edca-e3e0-483e-a1ab-3b65a99937ae",
   "metadata": {
    "panel-layout": {
     "height": 1017.98,
     "visible": true,
     "width": 100
    }
   },
   "outputs": [],
   "source": [
    "cols = ['Sex', 'Embarked', 'Pclass', 'SibSp', 'Parch']\n",
    "\n",
    "n_rows = 2\n",
    "n_cols = 3\n",
    "\n",
    "fig, ax = plt.subplots(n_rows, n_cols, figsize=(n_cols*3.5, n_rows*3.5))\n",
    "\n",
    "for r in range(0, n_rows):\n",
    "    for c in range(0, n_cols):\n",
    "        i = r*n_cols + c #index to loop through list \"cols\"\n",
    "        if i < len(cols):\n",
    "            ax_i = ax[r,c]\n",
    "            sns.countplot(data=train_df, x=cols[i], hue=\"Survived\", palette=\"Blues\", ax=ax_i)\n",
    "            ax_i.set_title(f\"Figure {i+1}: Survival Rate vs {cols[i]}\")\n",
    "            ax_i.legend(title='', loc='upper right', labels=['Not Survival', 'Survival'])\n",
    "ax.flat[-1].set_visible(False) \n",
    "plt.tight_layout()\n",
    "plt.show()"
   ]
  },
  {
   "cell_type": "markdown",
   "id": "de11a169-cc90-4479-b4fe-011e9582da1a",
   "metadata": {
    "panel-layout": {
     "height": 279.656,
     "visible": true,
     "width": 100
    }
   },
   "source": [
    "## Observation:\n",
    "- Survival rate\n",
    "    - Fig 1: Female survival rate > Male\n",
    "    - Fig 2: Most people embarked on Southampton, and also had the highest people not survived\n",
    "    - Fig 3: 1st class higher survived rate\n",
    "    - Fig 4: People going with 0 SibSp are mostly not survived. The number of passenger with 1-2 family members has a better chance of survival\n",
    "    - Fig 5: People going with 0 Parch are mostly not survived\n",
    "# 3.2. EDA for Numerical Features\n",
    "- Numerical Features: (continuous) `Age`, `Fare`\n",
    "\n",
    "## Age"
   ]
  },
  {
   "cell_type": "code",
   "execution_count": null,
   "id": "be138437-ea8f-4793-82a2-8822d29106c6",
   "metadata": {},
   "outputs": [],
   "source": [
    "sns.histplot(data=train_df, x='Age', hue='Survived', bins = 40, kde=True);"
   ]
  },
  {
   "cell_type": "markdown",
   "id": "065451e7-ab0d-40d0-9e9c-1cca042151e4",
   "metadata": {
    "panel-layout": {
     "height": 101.524,
     "visible": true,
     "width": 100
    }
   },
   "source": [
    "- Majority passengers were from 18-40 ages\n",
    "- Chilren had more chance to survive than other ages\n",
    "\n",
    "## Fare"
   ]
  },
  {
   "cell_type": "code",
   "execution_count": null,
   "id": "e35e247e-cac2-4881-88fc-4850ceb34607",
   "metadata": {
    "panel-layout": {
     "height": 1267.29,
     "visible": true,
     "width": 100
    }
   },
   "outputs": [],
   "source": [
    "train_df[\"Fare\"].describe()"
   ]
  },
  {
   "cell_type": "code",
   "execution_count": null,
   "id": "fdf5b0e2-b986-4819-a1cf-950094dfb459",
   "metadata": {},
   "outputs": [],
   "source": [
    "sns.histplot(data=train_df, x='Fare', hue = 'Survived', bins=40, palette=\"Blues\");"
   ]
  },
  {
   "cell_type": "code",
   "execution_count": null,
   "id": "0cbaf53d-ee33-4519-a46b-7d1d111bbc36",
   "metadata": {},
   "outputs": [],
   "source": [
    "# To name for 0-25% quartile, 25-50, 50-75, 75-100\n",
    "\n",
    "fare_categories = ['Economic', 'Standard', 'Expensive', 'Luxury']\n",
    "quartile_data = pd.qcut(train_df['Fare'], 4 , labels=fare_categories)\n",
    "sns.countplot(x=quartile_data, hue=train_df['Survived'], palette='Blues');"
   ]
  },
  {
   "cell_type": "code",
   "execution_count": null,
   "id": "c20119dd-1019-418c-bce6-dc3742e365f7",
   "metadata": {
    "panel-layout": {
     "height": 24685,
     "visible": true,
     "width": 100
    }
   },
   "outputs": [],
   "source": [
    "train_df['Fare']"
   ]
  },
  {
   "cell_type": "markdown",
   "id": "ed868d6f-e69b-46ff-89a5-97922aaddb96",
   "metadata": {
    "panel-layout": {
     "height": 215.028,
     "visible": true,
     "width": 100
    }
   },
   "source": [
    "- Distribution of Fare\n",
    "    - Fare does not follow a normal distribution and has a huge spike at the price range `(0-100$]`.\n",
    "    - The distribution is skewed to the left with 75% of the fare paid under $31 and a max paid fare of $512.\n",
    "- Quartile plot:\n",
    "    - Passenger with Luxury & Expensive Fare will have more chance to survive\n",
    " \n",
    "## Feature Engineering & Data Wrangling\n",
    "### Name\n",
    "- Regular Expression"
   ]
  },
  {
   "cell_type": "code",
   "execution_count": null,
   "id": "016dfdbe-a2fe-447c-8f1e-a9eb2aa6de84",
   "metadata": {
    "panel-layout": {
     "height": 1346.76,
     "visible": true,
     "width": 100
    }
   },
   "outputs": [],
   "source": [
    "train_df[\"Name\"].head(10)"
   ]
  },
  {
   "cell_type": "code",
   "execution_count": null,
   "id": "aea9da38-5205-400d-bcc0-e5291edba9b5",
   "metadata": {},
   "outputs": [],
   "source": [
    "import re\n",
    "\n",
    "def extract_title(name):\n",
    "    p = re.compile(r\",([\\w\\s]+)\\.\")\n",
    "    return p.search(name).groups(1)[0].strip()\n",
    "\n",
    "train_df['Title']=train_df['Name'].apply(lambda name: extract_title(name))"
   ]
  },
  {
   "cell_type": "code",
   "execution_count": null,
   "id": "2af6ff7c-34e9-4a75-b46c-c128ca0e3048",
   "metadata": {
    "panel-layout": {
     "height": 1532.2,
     "visible": true,
     "width": 100
    }
   },
   "outputs": [],
   "source": [
    "train_df['Title'].value_counts()"
   ]
  },
  {
   "cell_type": "code",
   "execution_count": null,
   "id": "38350608-1608-4b97-9ff5-cf61f84b38a5",
   "metadata": {},
   "outputs": [],
   "source": [
    "test_df['Title']=test_df['Name'].apply(lambda name: extract_title(name))"
   ]
  },
  {
   "cell_type": "code",
   "execution_count": null,
   "id": "98d63839-7cb7-4e7b-997f-ba988cc9fb8c",
   "metadata": {
    "panel-layout": {
     "height": 1320.27,
     "visible": true,
     "width": 100
    }
   },
   "outputs": [],
   "source": [
    "test_df['Title'].value_counts()"
   ]
  },
  {
   "cell_type": "code",
   "execution_count": null,
   "id": "39067bb6-bd47-4761-994f-31610c964c0a",
   "metadata": {},
   "outputs": [],
   "source": [
    "def group_title(title):\n",
    "    if title in ['Mr', 'Mrs', 'Miss', 'Master']:\n",
    "        return title\n",
    "    elif title == 'Ms':\n",
    "        return 'Miss'\n",
    "    else:\n",
    "        return 'Others'\n",
    "\n",
    "train_df['Title'] = train_df['Title'].apply(lambda title: group_title(title))\n",
    "test_df['Title'] = test_df['Title'].apply(lambda title: group_title(title))\n",
    "        "
   ]
  },
  {
   "cell_type": "code",
   "execution_count": null,
   "id": "08aa1f80-e78e-4015-9245-5bf2526ebe7f",
   "metadata": {
    "panel-layout": {
     "height": 1045.11,
     "visible": true,
     "width": 100
    }
   },
   "outputs": [],
   "source": [
    "sns.countplot(data=train_df, x='Title', hue='Survived')"
   ]
  },
  {
   "cell_type": "markdown",
   "id": "749bc5a7-9d4a-496c-a778-4069e1482026",
   "metadata": {
    "panel-layout": {
     "height": 79.0943,
     "visible": true,
     "width": 100
    }
   },
   "source": [
    "### Family\n",
    "- `SibSp`, `Parch`"
   ]
  },
  {
   "cell_type": "code",
   "execution_count": null,
   "id": "9115cb66-8083-4366-8a40-5517c940043f",
   "metadata": {},
   "outputs": [],
   "source": [
    "train_df['Family_Size'] = train_df['SibSp'].astype('int') + train_df['Parch'].astype('int') +1"
   ]
  },
  {
   "cell_type": "code",
   "execution_count": null,
   "id": "ba2cd5a4-7dd1-469a-8243-86378a0a4cd2",
   "metadata": {},
   "outputs": [],
   "source": [
    "test_df['Family_Size'] = test_df['SibSp'].astype('int') + test_df['Parch'].astype('int') +1"
   ]
  },
  {
   "cell_type": "code",
   "execution_count": null,
   "id": "60b26970-4521-493c-841e-1dc40e28f317",
   "metadata": {},
   "outputs": [],
   "source": [
    "train_df['Family_Cat'] = pd.cut(train_df['Family_Size'], bins=[0,1,4,6,20], labels=['Solo', 'Small', 'Medium', 'Large'])\n",
    "test_df['Family_Cat'] = pd.cut(test_df['Family_Size'], bins=[0,1,4,6,20], labels=['Solo', 'Small', 'Medium', 'Large'])"
   ]
  },
  {
   "cell_type": "code",
   "execution_count": null,
   "id": "980f08bb-05eb-4afc-8e4b-580bd2eba95d",
   "metadata": {},
   "outputs": [],
   "source": [
    "sns.countplot(data=train_df, x='Family_Cat', hue='Survived');"
   ]
  },
  {
   "cell_type": "markdown",
   "id": "1aa4dcb3-c1bd-4402-93e0-47ee3e8f05f5",
   "metadata": {
    "panel-layout": {
     "height": 50.8066,
     "visible": true,
     "width": 100
    }
   },
   "source": [
    "## 4.2 Data Wrangling"
   ]
  },
  {
   "cell_type": "code",
   "execution_count": null,
   "id": "eeaf21f7-0814-4325-8dd7-9835a80013c1",
   "metadata": {
    "panel-layout": {
     "height": 1017.98,
     "visible": true,
     "width": 100
    }
   },
   "outputs": [],
   "source": [
    "num_features = ['Age', 'Fare']\n",
    "cat_features = ['Sex', 'Pclass', 'Embarked', 'Title', 'Family_Cat']\n",
    "feature_cols = num_features + cat_features\n",
    "print(feature_cols)"
   ]
  },
  {
   "cell_type": "code",
   "execution_count": null,
   "id": "0f93df14-b207-435b-952b-e96de9c1dbff",
   "metadata": {
    "panel-layout": {
     "height": 1017.98,
     "visible": true,
     "width": 100
    }
   },
   "outputs": [],
   "source": [
    "def display_missing(df, feature_cols):\n",
    "    n_rows = df.shape[0]\n",
    "    for col in feature_cols:\n",
    "        missing_count = df[col].isnull().sum()\n",
    "        if missing_count > 0:\n",
    "            print(f\"{col} has {missing_count*100/n_rows:.2f}% missing values.\")\n",
    "\n",
    "display_missing(train_df, feature_cols)\n",
    "display_missing(test_df, feature_cols)"
   ]
  },
  {
   "cell_type": "markdown",
   "id": "6144686a-f08a-472d-95ab-871448b7c9bd",
   "metadata": {
    "panel-layout": {
     "height": 109.561,
     "visible": true,
     "width": 100
    }
   },
   "source": [
    "## Filling missing values\n",
    "#### Age\n",
    "- Filling missing values with median of whole dataset"
   ]
  },
  {
   "cell_type": "code",
   "execution_count": null,
   "id": "019633c6-9435-4bf9-b5c7-132a978239e5",
   "metadata": {},
   "outputs": [],
   "source": [
    "age_by_sex_pclass = train_df.groupby(['Sex', 'Pclass'], observed=True)['Age'].median()"
   ]
  },
  {
   "cell_type": "code",
   "execution_count": null,
   "id": "b2f723e3-e937-4889-95d9-c89c03751db1",
   "metadata": {
    "panel-layout": {
     "height": 1240.8,
     "visible": true,
     "width": 100
    }
   },
   "outputs": [],
   "source": [
    "age_by_sex_pclass"
   ]
  },
  {
   "cell_type": "code",
   "execution_count": null,
   "id": "7000938e-fef2-4e87-a6cf-2dd8825ab339",
   "metadata": {},
   "outputs": [],
   "source": [
    "# Filling the missing values in Age\n",
    "train_df['Age'] = train_df.groupby(['Sex', 'Pclass'], observed=True)['Age'].transform(lambda x: x.fillna(x.median()))\n",
    "test_df['Age'] = test_df.groupby(['Sex', 'Pclass'], observed=True)['Age'].transform(lambda x: x.fillna(x.median()))"
   ]
  },
  {
   "cell_type": "code",
   "execution_count": null,
   "id": "6ac4bbc2-6c0c-4914-a44a-8d4bc43b1db3",
   "metadata": {
    "panel-layout": {
     "height": 1017.98,
     "visible": true,
     "width": 100
    }
   },
   "outputs": [],
   "source": [
    "display_missing(train_df, feature_cols)\n",
    "display_missing(test_df, feature_cols)"
   ]
  },
  {
   "cell_type": "code",
   "execution_count": null,
   "id": "81e1331f-9363-48fc-b559-1a0687c4035e",
   "metadata": {},
   "outputs": [],
   "source": [
    "x = train_df[feature_cols]\n",
    "y = train_df['Survived']"
   ]
  },
  {
   "cell_type": "code",
   "execution_count": null,
   "id": "0278d4d7-bd64-48c2-b496-b82e0952ace8",
   "metadata": {},
   "outputs": [],
   "source": [
    "x_test = test_df[feature_cols]"
   ]
  },
  {
   "cell_type": "code",
   "execution_count": null,
   "id": "b27506bb-145a-4ed9-9a56-866031424e3a",
   "metadata": {},
   "outputs": [],
   "source": [
    "# preprocess pipeline\n",
    "from sklearn.preprocessing import OneHotEncoder, StandardScaler\n",
    "from sklearn.impute import SimpleImputer\n",
    "from sklearn.compose import ColumnTransformer\n",
    "from sklearn.pipeline import Pipeline\n",
    "\n",
    "num_transformer = Pipeline(steps = [\n",
    "    ('imputer', SimpleImputer(strategy='median')),\n",
    "    ('scaler', StandardScaler())\n",
    "])\n",
    "\n",
    "cat_transformer = Pipeline(steps = [\n",
    "    ('imputer', SimpleImputer(strategy='most_frequent')),\n",
    "    ('encoder', OneHotEncoder(handle_unknown='ignore'))\n",
    "])"
   ]
  },
  {
   "cell_type": "code",
   "execution_count": null,
   "id": "911c200b-4a1a-436b-9550-dcbe89ce03be",
   "metadata": {},
   "outputs": [],
   "source": [
    "preprocessor = ColumnTransformer(transformers=[\n",
    "    ('num', num_transformer, num_features),\n",
    "    ('cat', cat_transformer, cat_features)\n",
    "])"
   ]
  },
  {
   "cell_type": "code",
   "execution_count": null,
   "id": "0522fe45-fef5-478f-ac50-fbd4ffcc957a",
   "metadata": {
    "panel-layout": {
     "height": 1169.1,
     "visible": true,
     "width": 100
    }
   },
   "outputs": [],
   "source": [
    "preprocessor.fit(x)"
   ]
  },
  {
   "cell_type": "code",
   "execution_count": null,
   "id": "5faf137a-c363-49e5-a2f5-60afc390652a",
   "metadata": {},
   "outputs": [],
   "source": [
    "x = preprocessor.transform(x)"
   ]
  },
  {
   "cell_type": "code",
   "execution_count": null,
   "id": "3fec4dd3-9418-4262-ace2-dfd4ae7acb18",
   "metadata": {},
   "outputs": [],
   "source": [
    "x_test = preprocessor.transform(x_test)"
   ]
  },
  {
   "cell_type": "markdown",
   "id": "e3022dce-de51-422d-b54e-4b2923ab2ece",
   "metadata": {
    "panel-layout": {
     "height": 50.8066,
     "visible": true,
     "width": 100
    }
   },
   "source": [
    "## 5. Model training"
   ]
  },
  {
   "cell_type": "code",
   "execution_count": null,
   "id": "5faec096-a479-416c-937f-df3d91522377",
   "metadata": {},
   "outputs": [],
   "source": [
    "from sklearn.model_selection import train_test_split\n"
   ]
  },
  {
   "cell_type": "code",
   "execution_count": null,
   "id": "80f174d6-faf1-4565-a1f8-252872cdb9eb",
   "metadata": {},
   "outputs": [],
   "source": [
    "x_train, x_val, y_train, y_val = train_test_split(x,y,test_size=0.2)"
   ]
  },
  {
   "cell_type": "code",
   "execution_count": null,
   "id": "0aa8d73d-b0f3-43a8-b73e-ab69612dccb3",
   "metadata": {
    "panel-layout": {
     "height": 1045.11,
     "visible": true,
     "width": 100
    }
   },
   "outputs": [],
   "source": [
    "x_train.shape, x_val.shape"
   ]
  },
  {
   "cell_type": "code",
   "execution_count": null,
   "id": "0dc5fe1b-0d9a-45da-8ac4-8e4fda19c03d",
   "metadata": {
    "panel-layout": {
     "height": 1045.11,
     "visible": true,
     "width": 100
    }
   },
   "outputs": [],
   "source": [
    "x_test.shape"
   ]
  },
  {
   "cell_type": "code",
   "execution_count": null,
   "id": "adde729e-c14e-4888-aa8c-57818de18bc8",
   "metadata": {},
   "outputs": [],
   "source": [
    "# binary classsification\n",
    "from sklearn.linear_model import LogisticRegression\n",
    "from sklearn.metrics import precision_score, recall_score, classification_report, confusion_matrix\n",
    "from sklearn.preprocessing import PolynomialFeatures\n",
    "from sklearn.tree import DecisionTreeClassifier"
   ]
  },
  {
   "cell_type": "code",
   "execution_count": null,
   "id": "b0fadf91-ce74-4e1b-a25d-05aa2eb3c704",
   "metadata": {
    "panel-layout": {
     "height": 1086.84,
     "visible": true,
     "width": 100
    }
   },
   "outputs": [],
   "source": [
    "log_reg = LogisticRegression(solver='liblinear', max_iter=1000)\n",
    "log_reg.fit(x_train, y_train)"
   ]
  },
  {
   "cell_type": "code",
   "execution_count": null,
   "id": "e6011c64-e114-45d0-be12-80f36deb7e6a",
   "metadata": {
    "panel-layout": {
     "height": 1045.11,
     "visible": true,
     "width": 100
    }
   },
   "outputs": [],
   "source": [
    "log_reg.score(x_val, y_val)"
   ]
  },
  {
   "cell_type": "code",
   "execution_count": null,
   "id": "99a9a67f-cc73-4eab-b549-c425140537ad",
   "metadata": {},
   "outputs": [],
   "source": [
    "y_pred = log_reg.predict(x_val)"
   ]
  },
  {
   "cell_type": "code",
   "execution_count": null,
   "id": "8ee4d958-f7c5-46fc-b4a8-3a72fbac2c49",
   "metadata": {
    "panel-layout": {
     "height": 1045.11,
     "visible": true,
     "width": 100
    }
   },
   "outputs": [],
   "source": [
    "precision_score(y_val, y_pred), recall_score(y_val, y_pred)"
   ]
  },
  {
   "cell_type": "code",
   "execution_count": null,
   "id": "89ebdbe3-5aaf-4dac-9c2d-5148c7ee1c72",
   "metadata": {
    "panel-layout": {
     "height": 1017.98,
     "visible": true,
     "width": 100
    }
   },
   "outputs": [],
   "source": [
    "print(classification_report(y_val, y_pred))"
   ]
  },
  {
   "cell_type": "markdown",
   "id": "82518fc0-d37b-4409-980e-89f56d7d4690",
   "metadata": {
    "panel-layout": {
     "height": 51.1179,
     "visible": true,
     "width": 100
    }
   },
   "source": [
    "- y = ax1 + bx2 + bias -> y = ax1^2 + bx^2 + c x1*x2 +bias"
   ]
  },
  {
   "cell_type": "code",
   "execution_count": null,
   "id": "37e39023-c38f-46e9-acea-cbebf630fb07",
   "metadata": {},
   "outputs": [],
   "source": [
    "poly = PolynomialFeatures(degree=5)\n",
    "poly_features_x_train = poly.fit_transform(x_train)\n",
    "poly_features_x_val = poly.transform(x_val)\n",
    "                                    "
   ]
  },
  {
   "cell_type": "code",
   "execution_count": null,
   "id": "e1a403fc-5d44-4428-8d2b-2a02ea500836",
   "metadata": {
    "panel-layout": {
     "height": 1086.84,
     "visible": true,
     "width": 100
    }
   },
   "outputs": [],
   "source": [
    "poly_log_reg = LogisticRegression(solver='liblinear', max_iter=1000)\n",
    "poly_log_reg.fit(poly_features_x_train, y_train)"
   ]
  },
  {
   "cell_type": "code",
   "execution_count": null,
   "id": "45fe8fb9-345e-412e-a6b3-072d82b70cca",
   "metadata": {
    "panel-layout": {
     "height": 1045.11,
     "visible": true,
     "width": 100
    }
   },
   "outputs": [],
   "source": [
    "poly_log_reg.score(poly_features_x_val, y_val)"
   ]
  },
  {
   "cell_type": "code",
   "execution_count": null,
   "id": "a19e070e-8546-4928-ac3b-26d1c9abac3a",
   "metadata": {
    "panel-layout": {
     "height": 1086.84,
     "visible": true,
     "width": 100
    }
   },
   "outputs": [],
   "source": [
    "# decision tree\n",
    "decision_tree = DecisionTreeClassifier(criterion= 'entropy', max_depth=8, random_state=2022)\n",
    "decision_tree.fit(x_train, y_train)"
   ]
  },
  {
   "cell_type": "code",
   "execution_count": null,
   "id": "935caecc-df8c-43e3-9d22-8e4af0397337",
   "metadata": {
    "panel-layout": {
     "height": 1045.11,
     "visible": true,
     "width": 100
    }
   },
   "outputs": [],
   "source": [
    "decision_tree.score(x_val, y_val)"
   ]
  },
  {
   "cell_type": "markdown",
   "id": "a2901ea6-3a1e-498a-aa90-77c637c83987",
   "metadata": {
    "panel-layout": {
     "height": 50.8066,
     "visible": true,
     "width": 100
    }
   },
   "source": [
    "## 5.1 Cross-validation"
   ]
  },
  {
   "cell_type": "code",
   "execution_count": null,
   "id": "9f47f22c-9342-4724-bf7a-d7ac33ee6c3c",
   "metadata": {},
   "outputs": [],
   "source": [
    "from sklearn.model_selection import cross_val_score"
   ]
  },
  {
   "cell_type": "code",
   "execution_count": null,
   "id": "240aa8e9-e652-459b-8617-5625794ca89c",
   "metadata": {},
   "outputs": [],
   "source": [
    "log_reg_cv = LogisticRegression(solver='liblinear', max_iter=1000)\n",
    "dt_cv = DecisionTreeClassifier(criterion= 'entropy', max_depth=8, random_state=2022)\n",
    "\n",
    "lr_scores = cross_val_score(log_reg_cv, x, y, scoring='accuracy', cv=5)"
   ]
  },
  {
   "cell_type": "code",
   "execution_count": null,
   "id": "1483afcd-5600-48fd-9cd1-04cbd5c517ef",
   "metadata": {
    "panel-layout": {
     "height": 1045.11,
     "visible": true,
     "width": 100
    }
   },
   "outputs": [],
   "source": [
    "lr_scores.mean(), lr_scores.std()"
   ]
  },
  {
   "cell_type": "markdown",
   "id": "9c55b6b2-d47e-4a24-b152-2c4111f8129f",
   "metadata": {
    "panel-layout": {
     "height": 50.8066,
     "visible": true,
     "width": 100
    }
   },
   "source": [
    "## 5.2 Baseline Model Comparison"
   ]
  },
  {
   "cell_type": "code",
   "execution_count": null,
   "id": "a1ca1b7b-4d4e-42be-bf56-2e4c124d1d35",
   "metadata": {},
   "outputs": [],
   "source": [
    "from sklearn.svm import LinearSVC, SVC\n",
    "from sklearn.neighbors import KNeighborsClassifier\n",
    "from sklearn.ensemble import RandomForestClassifier, GradientBoostingClassifier, ExtraTreesClassifier, AdaBoostClassifier\n",
    "from xgboost import XGBClassifier\n",
    "seed = 2023\n",
    "models = [\n",
    "    LinearSVC(max_iter=12000, random_state=seed),\n",
    "    SVC(random_state=seed),\n",
    "    KNeighborsClassifier(metric='minkowski', p=2),\n",
    "    LogisticRegression(solver='liblinear', max_iter=1000),\n",
    "    DecisionTreeClassifier(random_state=seed),\n",
    "    RandomForestClassifier(random_state=seed),\n",
    "    ExtraTreesClassifier(),\n",
    "    AdaBoostClassifier(algorithm='SAMME'),\n",
    "    XGBClassifier( eval_metric='logloss', random_state=seed)\n",
    "]\n",
    "    "
   ]
  },
  {
   "cell_type": "code",
   "execution_count": null,
   "id": "b6a65c59-b596-45aa-9ae4-a062d1012b2c",
   "metadata": {
    "panel-layout": {
     "height": 2247.44,
     "visible": true,
     "width": 100
    }
   },
   "outputs": [],
   "source": [
    "from sklearn.model_selection import StratifiedKFold\n",
    "def generate_baseline_results(models, x, y, metrics, cv =5, plot_results=False):\n",
    "    #define k-fold:\n",
    "    kfold = StratifiedKFold(cv, shuffle=True, random_state=seed)\n",
    "    entries = []\n",
    "    for model in models:\n",
    "        model_name = model.__class__. __name__\n",
    "        scores = cross_val_score(model, x, y, scoring=metrics, cv=kfold)\n",
    "        for fold_idx, score in enumerate(scores):\n",
    "            entries.append((model_name, fold_idx, score))\n",
    "\n",
    "    cv_df = pd.DataFrame(entries, columns=['model_name', 'fold_id', 'accuracy_score'])\n",
    "    return cv_df\n",
    "\n",
    "generate_baseline_results(models, x, y, metrics='accuracy', cv = 5, plot_results=False)"
   ]
  },
  {
   "cell_type": "code",
   "execution_count": null,
   "id": "b9f4b3b4-f014-49d1-bf52-0808215162d5",
   "metadata": {},
   "outputs": [],
   "source": []
  }
 ],
 "metadata": {
  "kernelspec": {
   "display_name": "Python 3 (ipykernel)",
   "language": "python",
   "name": "python3"
  },
  "language_info": {
   "codemirror_mode": {
    "name": "ipython",
    "version": 3
   },
   "file_extension": ".py",
   "mimetype": "text/x-python",
   "name": "python",
   "nbconvert_exporter": "python",
   "pygments_lexer": "ipython3",
   "version": "3.12.7"
  },
  "panel-cell-order": [
   "b6adb1ab-3804-4501-96e6-019001266131",
   "8571343d-4fb4-4646-b672-1207582491ed",
   "cad608e4-2a03-4862-9189-d1aac7621f91",
   "57df601f-a10e-42d9-982f-d1e2ac5ed5c8",
   "48363163-0482-442c-89be-6e6f5151f519",
   "6d04a957-0136-4f14-ab91-51bad23744ed",
   "56640293-c03b-4c3a-999b-83b466ad57d9",
   "5d6f98c8-0a9a-4428-b5fc-9911862ef317",
   "fd2c697a-1138-4a91-bbfe-456cb523e10d",
   "f3267ac2-388e-478e-bb38-21687831b7c9",
   "210b2080-1889-442d-bf84-21df7c974526",
   "2eb6b950-d962-4212-9f7b-4963912cb818",
   "f5e5676f-6f37-4270-8a74-b28f1ab52d7e",
   "fb0053e3-b01f-4bad-b1fa-72d3f7bb5da0",
   "6165eebe-7d07-48c3-ab30-24758f228a59",
   "8254edca-e3e0-483e-a1ab-3b65a99937ae",
   "de11a169-cc90-4479-b4fe-011e9582da1a",
   "065451e7-ab0d-40d0-9e9c-1cca042151e4",
   "e35e247e-cac2-4881-88fc-4850ceb34607",
   "c20119dd-1019-418c-bce6-dc3742e365f7",
   "ed868d6f-e69b-46ff-89a5-97922aaddb96",
   "016dfdbe-a2fe-447c-8f1e-a9eb2aa6de84",
   "2af6ff7c-34e9-4a75-b46c-c128ca0e3048",
   "98d63839-7cb7-4e7b-997f-ba988cc9fb8c",
   "08aa1f80-e78e-4015-9245-5bf2526ebe7f",
   "749bc5a7-9d4a-496c-a778-4069e1482026",
   "1aa4dcb3-c1bd-4402-93e0-47ee3e8f05f5",
   "eeaf21f7-0814-4325-8dd7-9835a80013c1",
   "0f93df14-b207-435b-952b-e96de9c1dbff",
   "6144686a-f08a-472d-95ab-871448b7c9bd",
   "b2f723e3-e937-4889-95d9-c89c03751db1",
   "6ac4bbc2-6c0c-4914-a44a-8d4bc43b1db3",
   "0522fe45-fef5-478f-ac50-fbd4ffcc957a",
   "e3022dce-de51-422d-b54e-4b2923ab2ece",
   "0aa8d73d-b0f3-43a8-b73e-ab69612dccb3",
   "0dc5fe1b-0d9a-45da-8ac4-8e4fda19c03d",
   "b0fadf91-ce74-4e1b-a25d-05aa2eb3c704",
   "e6011c64-e114-45d0-be12-80f36deb7e6a",
   "8ee4d958-f7c5-46fc-b4a8-3a72fbac2c49",
   "89ebdbe3-5aaf-4dac-9c2d-5148c7ee1c72",
   "82518fc0-d37b-4409-980e-89f56d7d4690",
   "e1a403fc-5d44-4428-8d2b-2a02ea500836",
   "45fe8fb9-345e-412e-a6b3-072d82b70cca",
   "a19e070e-8546-4928-ac3b-26d1c9abac3a",
   "935caecc-df8c-43e3-9d22-8e4af0397337",
   "a2901ea6-3a1e-498a-aa90-77c637c83987",
   "1483afcd-5600-48fd-9cd1-04cbd5c517ef",
   "9c55b6b2-d47e-4a24-b152-2c4111f8129f",
   "b6a65c59-b596-45aa-9ae4-a062d1012b2c"
  ]
 },
 "nbformat": 4,
 "nbformat_minor": 5
}
